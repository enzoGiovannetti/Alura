{
 "cells": [
  {
   "cell_type": "code",
   "execution_count": 1,
   "metadata": {},
   "outputs": [],
   "source": [
    "from sklearn.naive_bayes import MultinomialNB"
   ]
  },
  {
   "cell_type": "code",
   "execution_count": 2,
   "metadata": {},
   "outputs": [],
   "source": [
    "porco1 = [1, 1, 0]\n",
    "porco2 = [1, 1, 0]\n",
    "porco3 = [1, 1, 0]\n",
    "cachorro4 = [1, 1, 1]\n",
    "cachorro5 = [0, 1, 1]\n",
    "cachorro6 = [0, 1, 1]\n",
    "\n",
    "dados = [porco1, porco2, porco3, cachorro4, cachorro5, cachorro6]\n",
    "\n",
    "marcacoes = [1, 1, 1, -1, -1, -1]\n",
    "\n",
    "misterioso1 = [1, 1, 1]\n",
    "misterioso2 = [1, 1, 1]\n",
    "\n",
    "\n",
    "modelo = MultinomialNB()"
   ]
  },
  {
   "cell_type": "code",
   "execution_count": 9,
   "metadata": {},
   "outputs": [],
   "source": [
    "misterioso1 = [1, 1, 1]\n",
    "misterioso2 = [1, 0, 0]\n",
    "\n",
    "teste = [misterioso1, misterioso2]"
   ]
  },
  {
   "cell_type": "code",
   "execution_count": 3,
   "metadata": {},
   "outputs": [
    {
     "data": {
      "text/plain": [
       "MultinomialNB()"
      ]
     },
     "execution_count": 3,
     "metadata": {},
     "output_type": "execute_result"
    }
   ],
   "source": [
    "modelo.fit(dados, marcacoes)"
   ]
  },
  {
   "cell_type": "code",
   "execution_count": 10,
   "metadata": {},
   "outputs": [
    {
     "data": {
      "text/plain": [
       "array([-1,  1])"
      ]
     },
     "execution_count": 10,
     "metadata": {},
     "output_type": "execute_result"
    }
   ],
   "source": [
    "modelo.predict(teste)"
   ]
  }
 ],
 "metadata": {
  "interpreter": {
   "hash": "2c978ee8eddabd3a6bbf3086a776660febb6ddc87be614f16aff3fd5c475257a"
  },
  "kernelspec": {
   "display_name": "Python 3.8.8 ('base')",
   "language": "python",
   "name": "python3"
  },
  "language_info": {
   "codemirror_mode": {
    "name": "ipython",
    "version": 3
   },
   "file_extension": ".py",
   "mimetype": "text/x-python",
   "name": "python",
   "nbconvert_exporter": "python",
   "pygments_lexer": "ipython3",
   "version": "3.8.8"
  },
  "orig_nbformat": 4
 },
 "nbformat": 4,
 "nbformat_minor": 2
}
