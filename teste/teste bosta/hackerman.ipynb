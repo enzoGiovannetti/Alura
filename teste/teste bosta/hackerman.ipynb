{
 "cells": [
  {
   "cell_type": "code",
   "execution_count": 110,
   "metadata": {},
   "outputs": [],
   "source": [
    "import random\n",
    "import pandas as pd"
   ]
  },
  {
   "cell_type": "code",
   "execution_count": 118,
   "metadata": {},
   "outputs": [],
   "source": [
    "lista_completa = ['a', 'b', 'c', 'd', 'e', 'f', 'g', 'h','i','j','k', 'l', 'm', 'n', 'o','p','q','r','s','t','u','v','w','x','y','z',\n",
    "'A', 'B', 'C', 'D', 'E', 'F', 'G', 'H', 'I', 'J', 'K', 'L', 'M', 'N', 'O', 'P', 'Q', 'R', 'S', 'T', 'U', 'V', 'W', 'X', 'Y', 'Z','\"',\"'\",'1','2','3','4','5','6','7','8','9',\n",
    "'!','@','#','$','%' ,'¨' ,'&','*','(',')','_','-','=','/','+','.','[',']','{','}','ª','º','~','^','?',';',':','<','>',',']\n",
    "\n",
    "lista_Aa = ['a', 'b', 'c', 'd', 'e', 'f', 'g', 'h','i','j','k', 'l', 'm', 'n', 'o','p','q','r','s','t','u','v','w','x','y','z',\n",
    "'A', 'B', 'C', 'D', 'E', 'F', 'G', 'H', 'I', 'J', 'K', 'L', 'M', 'N', 'O', 'P', 'Q', 'R', 'S', 'T', 'U', 'V', 'W', 'X', 'Y', 'Z']\n",
    "\n",
    "lista_a = ['a','b', 'c', 'd', 'e', 'f', 'g', 'h','i','j','k', 'l', 'm', 'n', 'o','p','q','r','s','t','u','v','w','x','y','z']"
   ]
  },
  {
   "cell_type": "code",
   "execution_count": 122,
   "metadata": {},
   "outputs": [],
   "source": [
    "try: \n",
    "    senha = input('Insira sua senha aqui ;)')\n",
    "\n",
    "except:\n",
    "    None\n"
   ]
  },
  {
   "cell_type": "code",
   "execution_count": 126,
   "metadata": {},
   "outputs": [],
   "source": [
    "hack = ''\n",
    "separado = list(senha)\n",
    "letra = ''\n",
    "cont = 0\n",
    "try:        \n",
    "    while hack != senha:\n",
    "        for i in separado:\n",
    "            while letra != i:\n",
    "                if cont >=  len(lista_a):\n",
    "                    break\n",
    "                letra = lista_a[cont]\n",
    "                cont = cont + 1\n",
    "        hack = hack + letra\n",
    "        print hack\n",
    "\n",
    "\n",
    "    print('sua senha é', hack)\n",
    "\n",
    "\n",
    "except:\n",
    "    None"
   ]
  }
 ],
 "metadata": {
  "interpreter": {
   "hash": "2c978ee8eddabd3a6bbf3086a776660febb6ddc87be614f16aff3fd5c475257a"
  },
  "kernelspec": {
   "display_name": "Python 3.8.8 64-bit ('base': conda)",
   "language": "python",
   "name": "python3"
  },
  "language_info": {
   "codemirror_mode": {
    "name": "ipython",
    "version": 3
   },
   "file_extension": ".py",
   "mimetype": "text/x-python",
   "name": "python",
   "nbconvert_exporter": "python",
   "pygments_lexer": "ipython3",
   "version": "3.8.8"
  },
  "orig_nbformat": 4
 },
 "nbformat": 4,
 "nbformat_minor": 2
}
