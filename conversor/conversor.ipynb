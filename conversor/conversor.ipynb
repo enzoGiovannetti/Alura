{
 "cells": [
  {
   "cell_type": "code",
   "execution_count": 1,
   "metadata": {},
   "outputs": [],
   "source": [
    "import tabula"
   ]
  },
  {
   "cell_type": "code",
   "execution_count": 12,
   "metadata": {},
   "outputs": [
    {
     "name": "stderr",
     "output_type": "stream",
     "text": [
      "Got stderr: ago 12, 2022 10:19:11 PM org.apache.pdfbox.pdmodel.font.FileSystemFontProvider loadDiskCache\n",
      "ADVERTÊNCIA: New fonts found, font cache will be re-built\n",
      "ago 12, 2022 10:19:11 PM org.apache.pdfbox.pdmodel.font.FileSystemFontProvider <init>\n",
      "ADVERTÊNCIA: Building on-disk font cache, this may take a while\n",
      "ago 12, 2022 10:19:11 PM org.apache.pdfbox.pdmodel.font.FileSystemFontProvider <init>\n",
      "ADVERTÊNCIA: Finished building on-disk font cache, found 377 fonts\n",
      "\n"
     ]
    },
    {
     "name": "stdout",
     "output_type": "stream",
     "text": [
      "   Código   Produto       Jan       Fev        Mar  Total 1o Trim.  Máximo  \\\n",
      "0       1     Porca  4.500,00  5.040,00   5.696,00             NaN     NaN   \n",
      "1       2  Parafuso  6.250,00  7.000,00   7.910,00             NaN     NaN   \n",
      "2       3   Arruela  3.300,00  3.696,00   4.176,00             NaN     NaN   \n",
      "3       4     Prego  8.000,00  8.690,00  10.125,00             NaN     NaN   \n",
      "4       5   Alicate  4.557,00  5.104,00   5.676,00             NaN     NaN   \n",
      "5       6   Martelo  3.260,00  3.640,00   4.113,00             NaN     NaN   \n",
      "\n",
      "   Mínimo  Média  \n",
      "0     NaN    NaN  \n",
      "1     NaN    NaN  \n",
      "2     NaN    NaN  \n",
      "3     NaN    NaN  \n",
      "4     NaN    NaN  \n",
      "5     NaN    NaN  \n"
     ]
    }
   ],
   "source": [
    "df = tabula.read_pdf(\"lista excel 2.pdf\", pages='all')[0]\n",
    "\n",
    "print(df)\n"
   ]
  },
  {
   "cell_type": "code",
   "execution_count": 13,
   "metadata": {},
   "outputs": [],
   "source": [
    "df.columns = df.columns.str.replace('\\r', ' ')"
   ]
  },
  {
   "cell_type": "code",
   "execution_count": 14,
   "metadata": {},
   "outputs": [
    {
     "name": "stdout",
     "output_type": "stream",
     "text": [
      "   Código   Produto       Jan       Fev        Mar  Total 1o Trim.  Máximo  \\\n",
      "0       1     Porca  4.500,00  5.040,00   5.696,00             NaN     NaN   \n",
      "1       2  Parafuso  6.250,00  7.000,00   7.910,00             NaN     NaN   \n",
      "2       3   Arruela  3.300,00  3.696,00   4.176,00             NaN     NaN   \n",
      "3       4     Prego  8.000,00  8.690,00  10.125,00             NaN     NaN   \n",
      "4       5   Alicate  4.557,00  5.104,00   5.676,00             NaN     NaN   \n",
      "\n",
      "   Mínimo  Média  \n",
      "0     NaN    NaN  \n",
      "1     NaN    NaN  \n",
      "2     NaN    NaN  \n",
      "3     NaN    NaN  \n",
      "4     NaN    NaN  \n"
     ]
    }
   ],
   "source": [
    "print(df.head())"
   ]
  },
  {
   "cell_type": "code",
   "execution_count": 7,
   "metadata": {},
   "outputs": [
    {
     "ename": "AttributeError",
     "evalue": "'list' object has no attribute 'to_excel'",
     "output_type": "error",
     "traceback": [
      "\u001b[1;31m---------------------------------------------------------------------------\u001b[0m",
      "\u001b[1;31mAttributeError\u001b[0m                            Traceback (most recent call last)",
      "\u001b[1;32mc:\\Users\\enzow\\OneDrive\\Documentos\\Alura\\conversor\\conversor.ipynb Célula: 3\u001b[0m in \u001b[0;36m<cell line: 1>\u001b[1;34m()\u001b[0m\n\u001b[1;32m----> <a href='vscode-notebook-cell:/c%3A/Users/enzow/OneDrive/Documentos/Alura/conversor/conversor.ipynb#W2sZmlsZQ%3D%3D?line=0'>1</a>\u001b[0m df\u001b[39m.\u001b[39;49mto_excel(\u001b[39m'\u001b[39m\u001b[39mlista_excel.xlsx\u001b[39m\u001b[39m'\u001b[39m)\n",
      "\u001b[1;31mAttributeError\u001b[0m: 'list' object has no attribute 'to_excel'"
     ]
    }
   ],
   "source": [
    "df.to_excel('lista_excel.xlsx')"
   ]
  },
  {
   "cell_type": "code",
   "execution_count": 9,
   "metadata": {},
   "outputs": [],
   "source": [
    "# convert PDF into CSV\n",
    "tabula.convert_into(\"lista excel 2.pdf\", \"lista_excel.xlsx\", output_format=\"csv\", pages='all')"
   ]
  }
 ],
 "metadata": {
  "kernelspec": {
   "display_name": "Python 3.9.12 ('base')",
   "language": "python",
   "name": "python3"
  },
  "language_info": {
   "codemirror_mode": {
    "name": "ipython",
    "version": 3
   },
   "file_extension": ".py",
   "mimetype": "text/x-python",
   "name": "python",
   "nbconvert_exporter": "python",
   "pygments_lexer": "ipython3",
   "version": "3.9.12"
  },
  "orig_nbformat": 4,
  "vscode": {
   "interpreter": {
    "hash": "ad2bdc8ecc057115af97d19610ffacc2b4e99fae6737bb82f5d7fb13d2f2c186"
   }
  }
 },
 "nbformat": 4,
 "nbformat_minor": 2
}
